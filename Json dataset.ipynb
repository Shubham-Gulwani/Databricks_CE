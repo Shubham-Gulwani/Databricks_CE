{
 "cells": [
  {
   "cell_type": "markdown",
   "metadata": {
    "application/vnd.databricks.v1+cell": {
     "cellMetadata": {},
     "inputWidgets": {},
     "nuid": "f24b0df4-946d-430f-a46f-b3a654e1bec5",
     "showTitle": false,
     "tableResultSettingsMap": {},
     "title": ""
    }
   },
   "source": [
    "https://github.com/jdorfman/awesome-json-datasets"
   ]
  },
  {
   "cell_type": "code",
   "execution_count": 0,
   "metadata": {
    "application/vnd.databricks.v1+cell": {
     "cellMetadata": {},
     "inputWidgets": {},
     "nuid": "f6cfb35d-3f72-45c3-a3c9-951619bfbf42",
     "showTitle": false,
     "tableResultSettingsMap": {},
     "title": ""
    }
   },
   "outputs": [],
   "source": []
  },
  {
   "cell_type": "code",
   "execution_count": 0,
   "metadata": {
    "application/vnd.databricks.v1+cell": {
     "cellMetadata": {
      "byteLimit": 2048000,
      "rowLimit": 10000
     },
     "inputWidgets": {},
     "nuid": "dd9d28fa-2195-42fb-aab6-2bf4585e8e6d",
     "showTitle": false,
     "tableResultSettingsMap": {},
     "title": ""
    }
   },
   "outputs": [
    {
     "output_type": "stream",
     "name": "stdout",
     "output_type": "stream",
     "text": [
      "{'provider': 'https://www.exchangerate-api.com', 'WARNING_UPGRADE_TO_V6': 'https://www.exchangerate-api.com/docs/free', 'terms': 'https://www.exchangerate-api.com/terms', 'base': 'USD', 'date': '2025-04-05', 'time_last_updated': 1743811201, 'rates': {'USD': 1, 'AED': 3.67, 'AFN': 71.49, 'ALL': 90.95, 'AMD': 391.38, 'ANG': 1.79, 'AOA': 916.89, 'ARS': 1075.88, 'AUD': 1.65, 'AWG': 1.79, 'AZN': 1.7, 'BAM': 1.78, 'BBD': 2, 'BDT': 121.47, 'BGN': 1.78, 'BHD': 0.376, 'BIF': 2964.72, 'BMD': 1, 'BND': 1.34, 'BOB': 6.9, 'BRL': 5.66, 'BSD': 1, 'BTN': 85.48, 'BWP': 13.9, 'BYN': 3.13, 'BZD': 2, 'CAD': 1.42, 'CDF': 2874.56, 'CHF': 0.857, 'CLP': 950.17, 'CNY': 7.28, 'COP': 4148.75, 'CRC': 501.97, 'CUP': 24, 'CVE': 100.38, 'CZK': 22.88, 'DJF': 177.72, 'DKK': 6.79, 'DOP': 63.11, 'DZD': 133.67, 'EGP': 50.59, 'ERN': 15, 'ETB': 130.3, 'EUR': 0.911, 'FJD': 2.32, 'FKP': 0.774, 'FOK': 6.79, 'GBP': 0.774, 'GEL': 2.76, 'GGP': 0.774, 'GHS': 15.53, 'GIP': 0.774, 'GMD': 72.64, 'GNF': 8632.28, 'GTQ': 7.7, 'GYD': 209.4, 'HKD': 7.78, 'HNL': 25.56, 'HRK': 6.86, 'HTG': 130.77, 'HUF': 368.57, 'IDR': 16726.75, 'ILS': 3.73, 'IMP': 0.774, 'INR': 85.48, 'IQD': 1309.89, 'IRR': 42004.5, 'ISK': 131.14, 'JEP': 0.774, 'JMD': 157.79, 'JOD': 0.709, 'JPY': 146.31, 'KES': 129.14, 'KGS': 87.11, 'KHR': 3998.66, 'KID': 1.65, 'KMF': 447.86, 'KRW': 1456.19, 'KWD': 0.308, 'KYD': 0.833, 'KZT': 503.08, 'LAK': 21766.75, 'LBP': 89500, 'LKR': 295.33, 'LRD': 199.58, 'LSL': 19.08, 'LYD': 4.83, 'MAD': 9.51, 'MDL': 17.74, 'MGA': 4619.95, 'MKD': 55.88, 'MMK': 2094.6, 'MNT': 3482.57, 'MOP': 8.01, 'MRU': 39.94, 'MUR': 44.77, 'MVR': 15.45, 'MWK': 1743.88, 'MXN': 20.42, 'MYR': 4.44, 'MZN': 63.9, 'NAD': 19.08, 'NGN': 1529.7, 'NIO': 36.74, 'NOK': 10.71, 'NPR': 136.77, 'NZD': 1.78, 'OMR': 0.384, 'PAB': 1, 'PEN': 3.68, 'PGK': 4.11, 'PHP': 57.26, 'PKR': 280.52, 'PLN': 3.88, 'PYG': 8029.96, 'QAR': 3.64, 'RON': 4.52, 'RSD': 106.39, 'RUB': 84.56, 'RWF': 1442.81, 'SAR': 3.75, 'SBD': 8.19, 'SCR': 14.79, 'SDG': 510.43, 'SEK': 9.99, 'SGD': 1.34, 'SHP': 0.774, 'SLE': 22.72, 'SLL': 22718.05, 'SOS': 571.2, 'SRD': 36.82, 'SSP': 4532.71, 'STN': 22.3, 'SYP': 12900.41, 'SZL': 19.08, 'THB': 34.38, 'TJS': 10.93, 'TMT': 3.5, 'TND': 3.07, 'TOP': 2.39, 'TRY': 38.01, 'TTD': 6.74, 'TVD': 1.65, 'TWD': 33.12, 'TZS': 2639.2, 'UAH': 41.22, 'UGX': 3641.41, 'UYU': 42.07, 'UZS': 12941.61, 'VES': 72.19, 'VND': 25757.09, 'VUV': 122.99, 'WST': 2.81, 'XAF': 597.15, 'XCD': 2.7, 'XCG': 1.79, 'XDR': 0.751, 'XOF': 597.15, 'XPF': 108.63, 'YER': 245.34, 'ZAR': 19.08, 'ZMW': 27.98, 'ZWL': 6.79}}\n"
     ]
    }
   ],
   "source": [
    "import requests\n",
    "\n",
    "repo_url = \"https://api.exchangerate-api.com/v4/latest/USD\"\n",
    "response = requests.get(repo_url)\n",
    "\n",
    "print(response.json())  # Lists all files in the repository\n",
    "\n",
    "json_data=response.json()\n"
   ]
  },
  {
   "cell_type": "code",
   "execution_count": 0,
   "metadata": {
    "application/vnd.databricks.v1+cell": {
     "cellMetadata": {
      "byteLimit": 2048000,
      "rowLimit": 10000
     },
     "inputWidgets": {},
     "nuid": "9e552cf3-fb21-46f7-80b6-35b171b600ff",
     "showTitle": false,
     "tableResultSettingsMap": {},
     "title": ""
    }
   },
   "outputs": [],
   "source": [
    "json_schema = StructType([\n",
    "    StructField(\"provider\", StringType(), True),\n",
    "    StructField(\"terms\", StringType(), True),\n",
    "    StructField(\"base\", StringType(), True),\n",
    "    StructField(\"date\", StringType(), True),\n",
    "    StructField(\"time_last_updated\", StringType(), True),\n",
    "    StructField(\"rates\", MapType(StringType(), StringType()), True)  # MapType for currency pairs\n",
    "])"
   ]
  },
  {
   "cell_type": "code",
   "execution_count": 0,
   "metadata": {
    "application/vnd.databricks.v1+cell": {
     "cellMetadata": {
      "byteLimit": 2048000,
      "rowLimit": 10000
     },
     "inputWidgets": {},
     "nuid": "a76abb0c-3c6b-41ce-a7fc-148d85eb13ca",
     "showTitle": false,
     "tableResultSettingsMap": {},
     "title": ""
    }
   },
   "outputs": [
    {
     "output_type": "stream",
     "name": "stdout",
     "output_type": "stream",
     "text": [
      "+--------------------+--------------------+----+----------+-----------------+--------------------+\n|            provider|               terms|base|      date|time_last_updated|               rates|\n+--------------------+--------------------+----+----------+-----------------+--------------------+\n|https://www.excha...|https://www.excha...| USD|2025-04-05|       1743811201|{FJD -> 2.32, MXN...|\n+--------------------+--------------------+----+----------+-----------------+--------------------+\n\n"
     ]
    }
   ],
   "source": [
    "df = spark.createDataFrame([json_data], schema=json_schema)\n",
    "\n",
    "df.show()"
   ]
  },
  {
   "cell_type": "code",
   "execution_count": 0,
   "metadata": {
    "application/vnd.databricks.v1+cell": {
     "cellMetadata": {
      "byteLimit": 2048000,
      "rowLimit": 10000
     },
     "inputWidgets": {},
     "nuid": "2ea22f28-d91b-4f10-bc8d-0ae1dbdc5a21",
     "showTitle": false,
     "tableResultSettingsMap": {},
     "title": ""
    }
   },
   "outputs": [
    {
     "output_type": "stream",
     "name": "stdout",
     "output_type": "stream",
     "text": [
      "+--------------------+--------------------+----+----------+-----------------+--------------------+\n|            provider|               terms|base|      date|time_last_updated|               rates|\n+--------------------+--------------------+----+----------+-----------------+--------------------+\n|https://www.excha...|https://www.excha...| USD|2025-04-05|       1743811201|{FJD -> 2.32, MXN...|\n+--------------------+--------------------+----+----------+-----------------+--------------------+\n\n+--------+--------+\n|currency|    rate|\n+--------+--------+\n|     FJD|    2.32|\n|     MXN|   20.42|\n|     TVD|    1.65|\n|     SCR|   14.79|\n|     CDF| 2874.56|\n|     GTQ|     7.7|\n|     BBD|     2.0|\n|     CLP|  950.17|\n|     UGX| 3641.41|\n|     HNL|   25.56|\n|     ZAR|   19.08|\n|     TND|    3.07|\n|     STN|    22.3|\n|     SLE|   22.72|\n|     SLL|22718.05|\n|     BSD|     1.0|\n|     SDG|  510.43|\n|     IQD| 1309.89|\n|     GMD|   72.64|\n|     CUP|    24.0|\n+--------+--------+\nonly showing top 20 rows\n\n"
     ]
    }
   ],
   "source": [
    "from pyspark.sql.functions import col\n",
    "from pyspark.sql.types import DoubleType\n",
    "\n",
    "df_corrected = df.withColumn(\"rates\", col(\"rates\").cast(\"map<string,double>\"))\n",
    "df_corrected.show()\n",
    "df_exploded = df.select(explode(col(\"rates\")).alias(\"currency\", \"rate\"))\n",
    "df_exploded=df_exploded.withColumn(\"rate\",col(\"rate\").cast(DoubleType()))\n",
    "df_exploded.show()\n"
   ]
  },
  {
   "cell_type": "code",
   "execution_count": 0,
   "metadata": {
    "application/vnd.databricks.v1+cell": {
     "cellMetadata": {
      "byteLimit": 2048000,
      "rowLimit": 10000
     },
     "inputWidgets": {},
     "nuid": "d1aa1df1-2cea-4fce-842b-7546e8820aed",
     "showTitle": false,
     "tableResultSettingsMap": {},
     "title": ""
    }
   },
   "outputs": [
    {
     "output_type": "stream",
     "name": "stdout",
     "output_type": "stream",
     "text": [
      "root\n |-- currency: string (nullable = false)\n |-- rate: double (nullable = true)\n\n"
     ]
    }
   ],
   "source": [
    "df_exploded.printSchema()"
   ]
  },
  {
   "cell_type": "code",
   "execution_count": 0,
   "metadata": {
    "application/vnd.databricks.v1+cell": {
     "cellMetadata": {
      "byteLimit": 2048000,
      "rowLimit": 10000
     },
     "inputWidgets": {},
     "nuid": "fab3626f-1cfa-4e5d-86bd-9c8a3e2b1fb3",
     "showTitle": false,
     "tableResultSettingsMap": {},
     "title": ""
    }
   },
   "outputs": [
    {
     "output_type": "stream",
     "name": "stdout",
     "output_type": "stream",
     "text": [
      "+--------+--------+\n|currency|    rate|\n+--------+--------+\n|     FJD|    2.32|\n|     MXN|   20.42|\n|     TVD|    1.65|\n|     SCR|   14.79|\n|     CDF| 2874.56|\n|     GTQ|     7.7|\n|     BBD|     2.0|\n|     CLP|  950.17|\n|     UGX| 3641.41|\n|     HNL|   25.56|\n|     ZAR|   19.08|\n|     TND|    3.07|\n|     STN|    22.3|\n|     SLE|   22.72|\n|     SLL|22718.05|\n|     BSD|     1.0|\n|     SDG|  510.43|\n|     IQD| 1309.89|\n|     GMD|   72.64|\n|     CUP|    24.0|\n+--------+--------+\nonly showing top 20 rows\n\n"
     ]
    }
   ],
   "source": [
    "df_exploded.show()"
   ]
  },
  {
   "cell_type": "code",
   "execution_count": 0,
   "metadata": {
    "application/vnd.databricks.v1+cell": {
     "cellMetadata": {
      "byteLimit": 2048000,
      "rowLimit": 10000
     },
     "inputWidgets": {},
     "nuid": "cc5471a0-a5a1-4f6b-a617-6d1a99ba0c09",
     "showTitle": false,
     "tableResultSettingsMap": {},
     "title": ""
    }
   },
   "outputs": [
    {
     "output_type": "stream",
     "name": "stdout",
     "output_type": "stream",
     "text": [
      "[{'Id': 2, 'DirectorateID': 31, 'Name': 'MSP'}, {'Id': 3, 'DirectorateID': 32, 'Name': 'MSP'}, {'Id': 4, 'DirectorateID': 33, 'Name': 'MSP'}, {'Id': 5, 'DirectorateID': 34, 'Name': 'MSP'}, {'Id': 6, 'DirectorateID': 35, 'Name': 'MSP'}, {'Id': 7, 'DirectorateID': 2, 'Name': 'APS'}, {'Id': 8, 'DirectorateID': 52, 'Name': 'Business Information Technology Office (Programmes)'}, {'Id': 9, 'DirectorateID': 65, 'Name': 'Broadcasting'}, {'Id': 10, 'DirectorateID': 52, 'Name': \"Digital Services Group (Head's Office)\"}, {'Id': 11, 'DirectorateID': 52, 'Name': 'Business Information Technology Office (Admin. Support)'}, {'Id': 12, 'DirectorateID': 52, 'Name': 'Business Information Technology Office (Applications)'}, {'Id': 13, 'DirectorateID': 52, 'Name': 'Business Information Technology Office (Delivery)'}, {'Id': 14, 'DirectorateID': 52, 'Name': 'Business Information Technology Office (Development)'}, {'Id': 15, 'DirectorateID': 52, 'Name': 'Business Information Technology Office (Infrastructure)'}, {'Id': 16, 'DirectorateID': 52, 'Name': 'Business Information Technology Office (Strategy)'}, {'Id': 17, 'DirectorateID': 52, 'Name': 'Business Information Technology Office (Dev. Business Change)'}, {'Id': 18, 'DirectorateID': 52, 'Name': 'Business Information Technology Office (Dev. Projects)'}, {'Id': 19, 'DirectorateID': 65, 'Name': 'Chamber Office (Business Team)'}, {'Id': 20, 'DirectorateID': 65, 'Name': 'Chamber Office (Chamber Desk)'}, {'Id': 21, 'DirectorateID': 65, 'Name': 'Chamber Office (Delegated Powers & Law Reform Committee)'}, {'Id': 22, 'DirectorateID': 65, 'Name': 'Chamber Office (Legislation)'}, {'Id': 23, 'DirectorateID': 65, 'Name': 'Chamber Office (Non-Government Bills Unit)'}, {'Id': 24, 'DirectorateID': 65, 'Name': 'Chamber Office (Non-Government Bills Unit/Private Bills Unit)'}, {'Id': 26, 'DirectorateID': 65, 'Name': 'Official Report'}, {'Id': 29, 'DirectorateID': 7, 'Name': 'Office of the Clerk/Chief Executive'}, {'Id': 31, 'DirectorateID': 64, 'Name': \"Solicitor's Office\"}, {'Id': 32, 'DirectorateID': 8, 'Name': 'Ethical Standards in Public Life in Scotland'}, {'Id': 33, 'DirectorateID': 8, 'Name': 'The Scottish Parliamentary Standards Commissioner'}, {'Id': 34, 'DirectorateID': 72, 'Name': 'Committee Office'}, {'Id': 39, 'DirectorateID': 73, 'Name': 'Outreach Services'}, {'Id': 48, 'DirectorateID': 72, 'Name': 'Committee (Criminal Justice)'}, {'Id': 58, 'DirectorateID': 72, 'Name': 'SPICe (Financial Scrutiny and Resources)'}, {'Id': 59, 'DirectorateID': 72, 'Name': 'SPICe (Research and Enquiries)'}, {'Id': 60, 'DirectorateID': 72, 'Name': 'SPICe (Research and Library)'}, {'Id': 73, 'DirectorateID': 66, 'Name': 'Facilities Management Office (Project Management)'}, {'Id': 81, 'DirectorateID': 66, 'Name': 'Security'}, {'Id': 86, 'DirectorateID': 18, 'Name': 'MSP'}, {'Id': 87, 'DirectorateID': 7, 'Name': 'Office of the Presiding Officer'}, {'Id': 88, 'DirectorateID': 21, 'Name': 'Scottish Parliament and Business Exchange'}, {'Id': 91, 'DirectorateID': 25, 'Name': 'MSP'}, {'Id': 92, 'DirectorateID': 25, 'Name': 'MSP Staff'}, {'Id': 93, 'DirectorateID': 26, 'Name': 'MSP'}, {'Id': 94, 'DirectorateID': 26, 'Name': 'MSP Staff'}, {'Id': 95, 'DirectorateID': 27, 'Name': 'MSP'}, {'Id': 96, 'DirectorateID': 27, 'Name': 'MSP Staff'}, {'Id': 97, 'DirectorateID': 28, 'Name': 'MSP'}, {'Id': 98, 'DirectorateID': 28, 'Name': 'MSP Staff'}, {'Id': 99, 'DirectorateID': 29, 'Name': 'MSP'}, {'Id': 100, 'DirectorateID': 29, 'Name': 'MSP Staff'}, {'Id': 101, 'DirectorateID': 30, 'Name': 'MSP'}, {'Id': 102, 'DirectorateID': 30, 'Name': 'MSP Staff'}, {'Id': 103, 'DirectorateID': 36, 'Name': 'BBC'}, {'Id': 104, 'DirectorateID': 36, 'Name': 'Communications and Research'}, {'Id': 105, 'DirectorateID': 36, 'Name': 'UK and International Relations Unit'}, {'Id': 106, 'DirectorateID': 37, 'Name': 'Bray Leino'}, {'Id': 107, 'DirectorateID': 38, 'Name': 'Camerons'}, {'Id': 109, 'DirectorateID': 40, 'Name': 'Crown'}, {'Id': 110, 'DirectorateID': 41, 'Name': 'Kelly Care'}, {'Id': 111, 'DirectorateID': 42, 'Name': 'Logica'}, {'Id': 112, 'DirectorateID': 43, 'Name': 'Mitie Olscot'}, {'Id': 113, 'DirectorateID': 44, 'Name': 'Norland'}, {'Id': 114, 'DirectorateID': 45, 'Name': 'Police Unit'}, {'Id': 115, 'DirectorateID': 46, 'Name': 'Post Office'}, {'Id': 116, 'DirectorateID': 47, 'Name': 'RedWeb'}, {'Id': 117, 'DirectorateID': 48, 'Name': 'RR Donnelley'}, {'Id': 118, 'DirectorateID': 49, 'Name': 'Sodexo'}, {'Id': 119, 'DirectorateID': 52, 'Name': 'Project and Programme'}, {'Id': 122, 'DirectorateID': 52, 'Name': 'Business IT'}, {'Id': 123, 'DirectorateID': 65, 'Name': 'Chamber Office (Standards, Procedures and Public Appointments)'}, {'Id': 124, 'DirectorateID': 72, 'Name': 'Committee (Economy and Fair Work)'}, {'Id': 125, 'DirectorateID': 72, 'Name': 'Committee (Social Justice and Social Security)'}, {'Id': 126, 'DirectorateID': 72, 'Name': 'Committee (Rural Affairs and Islands)'}, {'Id': 127, 'DirectorateID': 72, 'Name': 'Committee (Local Government, Housing and Planning)'}, {'Id': 129, 'DirectorateID': 72, 'Name': 'Committee (Education, Children and Young People)'}, {'Id': 132, 'DirectorateID': 7, 'Name': 'International Relations Office'}, {'Id': 133, 'DirectorateID': 8, 'Name': 'The Standards Commission for Scotland'}, {'Id': 137, 'DirectorateID': 73, 'Name': 'Lobbying Registrar'}, {'Id': 138, 'DirectorateID': 72, 'Name': 'SPICe (The Enquiries and Collections Team)'}, {'Id': 141, 'DirectorateID': 73, 'Name': 'Public Information and Resources'}, {'Id': 145, 'DirectorateID': 67, 'Name': 'Allowances'}, {'Id': 146, 'DirectorateID': 67, 'Name': 'Finance'}, {'Id': 151, 'DirectorateID': 67, 'Name': 'Pay and Pensions'}, {'Id': 160, 'DirectorateID': 73, 'Name': 'Events and Exhibitions'}, {'Id': 162, 'DirectorateID': 52, 'Name': 'Information Management and Governance Team'}, {'Id': 165, 'DirectorateID': 66, 'Name': 'Facilities Management Office (Management Team)'}, {'Id': 166, 'DirectorateID': 66, 'Name': 'Facilities Management Office (Environmental Performance)'}, {'Id': 167, 'DirectorateID': 66, 'Name': 'Facilities Management Office (Contract Management)'}, {'Id': 170, 'DirectorateID': 80, 'Name': 'Facilities Management Office (CRM Team)'}, {'Id': 174, 'DirectorateID': 73, 'Name': 'Visitor Services'}, {'Id': 178, 'DirectorateID': 64, 'Name': \"Business Assurance (Head's Office)\"}, {'Id': 179, 'DirectorateID': 65, 'Name': \"Legislation and Parliamentary Business Group (Head's Office)\"}, {'Id': 180, 'DirectorateID': 66, 'Name': \"Resilience and Sustainability Group (Head's Office)\"}, {'Id': 181, 'DirectorateID': 67, 'Name': \"Financial Governance Group (Head's Office)\"}, {'Id': 182, 'DirectorateID': 64, 'Name': 'Procurement'}, {'Id': 183, 'DirectorateID': 64, 'Name': 'Legal Services Office'}, {'Id': 184, 'DirectorateID': 66, 'Name': 'Business Continuity'}, {'Id': 187, 'DirectorateID': 71, 'Name': 'Deputy Chief Executive Office'}, {'Id': 188, 'DirectorateID': 72, 'Name': 'SPICe (Justice and Social Affairs Research Unit)'}, {'Id': 190, 'DirectorateID': 72, 'Name': 'SPICe (Health and Social Care)'}, {'Id': 191, 'DirectorateID': 72, 'Name': 'Committee (Constitution, Europe, External Affairs and Culture)'}, {'Id': 193, 'DirectorateID': 52, 'Name': 'Business Information Management (Resources and Governance)'}, {'Id': 194, 'DirectorateID': 72, 'Name': 'SPICe'}, {'Id': 195, 'DirectorateID': 72, 'Name': 'Committee (Finance and Public Administration)'}, {'Id': 196, 'DirectorateID': 72, 'Name': 'SPICe (Justice and Social Affairs) '}, {'Id': 197, 'DirectorateID': 72, 'Name': 'SPICe (Env, Rural, Const and International Research Unit)'}, {'Id': 199, 'DirectorateID': 52, 'Name': 'BIT (Resources & Gov) '}, {'Id': 201, 'DirectorateID': 73, 'Name': \"Engagement and Communications Group (Head's Office)\"}, {'Id': 203, 'DirectorateID': 72, 'Name': 'Committee (COVID 19 Recovery)'}, {'Id': 204, 'DirectorateID': 73, 'Name': \"Scotland's Futures Forum\"}, {'Id': 206, 'DirectorateID': 72, 'Name': 'Committee (Net Zero, Energy and Transport)'}, {'Id': 207, 'DirectorateID': 72, 'Name': 'Committee (Health, Social Care and Sport)'}, {'Id': 208, 'DirectorateID': 72, 'Name': 'Committee (Public Audit)'}, {'Id': 209, 'DirectorateID': 72, 'Name': 'Committee (Equalities, Human Rights and Civil Justice)'}, {'Id': 210, 'DirectorateID': 72, 'Name': 'Committee (Citizen Participation and Public Petitions)'}, {'Id': 211, 'DirectorateID': 7, 'Name': 'HR (MSP) Services Team'}, {'Id': 212, 'DirectorateID': 7, 'Name': 'HR (SPS) Services Team'}, {'Id': 213, 'DirectorateID': 7, 'Name': 'HR - Learning, Development and Change Team'}, {'Id': 214, 'DirectorateID': 7, 'Name': 'HR - Diversity, Inclusion and Wellbeing Team'}, {'Id': 215, 'DirectorateID': 71, 'Name': 'Internal Audit'}, {'Id': 216, 'DirectorateID': 72, 'Name': \"Scrutiny Group (Head's Office)\"}, {'Id': 217, 'DirectorateID': 74, 'Name': 'MSP'}, {'Id': 218, 'DirectorateID': 73, 'Name': 'Participation and Communities Team'}, {'Id': 221, 'DirectorateID': 73, 'Name': 'Parliament Communications Office'}, {'Id': 222, 'DirectorateID': 66, 'Name': 'Sustainability Team'}, {'Id': 223, 'DirectorateID': 66, 'Name': 'Resilience Office '}, {'Id': 224, 'DirectorateID': 73, 'Name': 'Group Head of Engagement and Communications'}, {'Id': 225, 'DirectorateID': 72, 'Name': 'Group Head of Scrutiny'}, {'Id': 226, 'DirectorateID': 65, 'Name': 'Group Head of Legislation and Parliamentary Business '}, {'Id': 227, 'DirectorateID': 64, 'Name': 'Group Head of Business Assurance '}, {'Id': 228, 'DirectorateID': 52, 'Name': 'Group Head of Digital Services'}, {'Id': 229, 'DirectorateID': 66, 'Name': 'Group Head of Resilience and Sustainability '}, {'Id': 230, 'DirectorateID': 67, 'Name': 'Group Head of Financial Governance'}, {'Id': 231, 'DirectorateID': 75, 'Name': 'Organisational Development and Colleague Experience'}, {'Id': 232, 'DirectorateID': 75, 'Name': 'People Services, Diversity and Inclusion'}, {'Id': 233, 'DirectorateID': 75, 'Name': \"People and Culture Head's Office\"}, {'Id': 234, 'DirectorateID': 5, 'Name': \"Office Head's Office\"}, {'Id': 235, 'DirectorateID': 65, 'Name': \"Chamber Office (Office Head's Office)\"}, {'Id': 236, 'DirectorateID': 73, 'Name': 'Public Engagement Services'}, {'Id': 237, 'DirectorateID': 76, 'Name': 'MSP'}, {'Id': 238, 'DirectorateID': 76, 'Name': 'MSP Staff'}, {'Id': 239, 'DirectorateID': 77, 'Name': 'Test Department'}, {'Id': 240, 'DirectorateID': 80, 'Name': 'Operations and Digital Directorate'}, {'Id': 241, 'DirectorateID': 79, 'Name': 'Resilience'}]\n"
     ]
    }
   ],
   "source": [
    "import requests\n",
    "\n",
    "repo_url=\"https://data.parliament.scot/api/departments\"\n",
    "\n",
    "response =requests.get(repo_url)\n",
    "\n",
    "print(response.json())\n",
    "\n",
    "req_data= response.json()\n"
   ]
  },
  {
   "cell_type": "code",
   "execution_count": 0,
   "metadata": {
    "application/vnd.databricks.v1+cell": {
     "cellMetadata": {
      "byteLimit": 2048000,
      "rowLimit": 10000
     },
     "inputWidgets": {},
     "nuid": "5a777355-1769-4b5b-b1fa-b79d2c1eb4e1",
     "showTitle": false,
     "tableResultSettingsMap": {},
     "title": ""
    }
   },
   "outputs": [],
   "source": [
    "from pyspark.sql.types import StructType, StructField, StringType, MapType, DoubleType, LongType,IntegerType\n",
    "from pyspark.sql.functions import col\n",
    "\n",
    "\n",
    "json_schema= StructType([\n",
    "  StructField(\"Id\",IntegerType(),True),\n",
    "  StructField(\"DirectorateID\",IntegerType(),True),\n",
    "  StructField(\"Name\",StringType(),True)\n",
    "])\n",
    "\n"
   ]
  },
  {
   "cell_type": "code",
   "execution_count": 0,
   "metadata": {
    "application/vnd.databricks.v1+cell": {
     "cellMetadata": {
      "byteLimit": 2048000,
      "rowLimit": 10000
     },
     "inputWidgets": {},
     "nuid": "d99fb403-f4c6-4124-988c-e42a7896799d",
     "showTitle": false,
     "tableResultSettingsMap": {},
     "title": ""
    }
   },
   "outputs": [
    {
     "output_type": "stream",
     "name": "stdout",
     "output_type": "stream",
     "text": [
      "root\n |-- Id: integer (nullable = true)\n |-- DirectorateID: integer (nullable = true)\n |-- Name: string (nullable = true)\n\n"
     ]
    }
   ],
   "source": [
    "df_tr = spark.createDataFrame(req_data,schema=json_schema)\n",
    "df_tr.printSchema()"
   ]
  },
  {
   "cell_type": "code",
   "execution_count": 0,
   "metadata": {
    "application/vnd.databricks.v1+cell": {
     "cellMetadata": {
      "byteLimit": 2048000,
      "rowLimit": 10000
     },
     "inputWidgets": {},
     "nuid": "74c478ec-8e52-478e-a715-aa317aa85d6c",
     "showTitle": false,
     "tableResultSettingsMap": {},
     "title": ""
    }
   },
   "outputs": [
    {
     "output_type": "stream",
     "name": "stdout",
     "output_type": "stream",
     "text": [
      "+---+-------------+--------------------+\n| Id|DirectorateID|                Name|\n+---+-------------+--------------------+\n|  2|           31|                 MSP|\n|  3|           32|                 MSP|\n|  4|           33|                 MSP|\n|  5|           34|                 MSP|\n|  6|           35|                 MSP|\n|  7|            2|                 APS|\n|  8|           52|Business Informat...|\n|  9|           65|        Broadcasting|\n| 10|           52|Digital Services ...|\n| 11|           52|Business Informat...|\n| 12|           52|Business Informat...|\n| 13|           52|Business Informat...|\n| 14|           52|Business Informat...|\n| 15|           52|Business Informat...|\n| 16|           52|Business Informat...|\n| 17|           52|Business Informat...|\n| 18|           52|Business Informat...|\n| 19|           65|Chamber Office (B...|\n| 20|           65|Chamber Office (C...|\n| 21|           65|Chamber Office (D...|\n+---+-------------+--------------------+\nonly showing top 20 rows\n\n"
     ]
    }
   ],
   "source": [
    "df_tr.show()"
   ]
  },
  {
   "cell_type": "code",
   "execution_count": 0,
   "metadata": {
    "application/vnd.databricks.v1+cell": {
     "cellMetadata": {
      "byteLimit": 2048000,
      "rowLimit": 10000
     },
     "inputWidgets": {},
     "nuid": "8b66225d-f3f4-47bf-9f0d-1e62a02ad1cd",
     "showTitle": false,
     "tableResultSettingsMap": {},
     "title": ""
    }
   },
   "outputs": [
    {
     "output_type": "stream",
     "name": "stdout",
     "output_type": "stream",
     "text": [
      "{'states': [{'state': {'state_id': 'AN', 'state_name': 'Andaman and Nicobar Island (UT)'}}, {'state': {'state_id': 'AP', 'state_name': 'Andhra Pradesh'}}, {'state': {'state_id': 'AR', 'state_name': 'Arunachal Pradesh'}}, {'state': {'state_id': 'AS', 'state_name': 'Assam'}}, {'state': {'state_id': 'BR', 'state_name': 'Bihar'}}, {'state': {'state_id': 'CH', 'state_name': 'Chandigarh (UT)'}}, {'state': {'state_id': 'CG', 'state_name': 'Chhattisgarh'}}, {'state': {'state_id': 'DN', 'state_name': 'Dadra and Nagar Haveli (UT)'}}, {'state': {'state_id': 'DD', 'state_name': 'Daman and Diu (UT)'}}, {'state': {'state_id': 'DL', 'state_name': 'Delhi (NCT)'}}, {'state': {'state_id': 'GA', 'state_name': 'Goa'}}, {'state': {'state_id': 'GJ', 'state_name': 'Gujarat'}}, {'state': {'state_id': 'HR', 'state_name': 'Haryana'}}, {'state': {'state_id': 'HP', 'state_name': 'Himachal Pradesh'}}, {'state': {'state_id': 'JK', 'state_name': 'Jammu and Kashmir (UT)'}}, {'state': {'state_id': 'JH', 'state_name': 'Jharkhand'}}, {'state': {'state_id': 'KA', 'state_name': 'Karnataka'}}, {'state': {'state_id': 'KL', 'state_name': 'Kerala'}}, {'state': {'state_id': 'LK', 'state_name': 'Ladakh(UT)'}}, {'state': {'state_id': 'LD', 'state_name': 'Lakshadweep (UT)'}}, {'state': {'state_id': 'MP', 'state_name': 'Madhya Pradesh'}}, {'state': {'state_id': 'MH', 'state_name': 'Maharashtra'}}, {'state': {'state_id': 'MN', 'state_name': 'Manipur'}}, {'state': {'state_id': 'ML', 'state_name': 'Meghalaya'}}, {'state': {'state_id': 'MZ', 'state_name': 'Mizoram'}}, {'state': {'state_id': 'NL', 'state_name': 'Nagaland'}}, {'state': {'state_id': 'OR', 'state_name': 'Odisha'}}, {'state': {'state_id': 'PY', 'state_name': 'Puducherry (UT)'}}, {'state': {'state_id': 'PB', 'state_name': 'Punjab'}}, {'state': {'state_id': 'RJ', 'state_name': 'Rajasthan'}}, {'state': {'state_id': 'SK', 'state_name': 'Sikkim'}}, {'state': {'state_id': 'TN', 'state_name': 'Tamil Nadu'}}, {'state': {'state_id': 'TG', 'state_name': 'Telangana'}}, {'state': {'state_id': 'TR', 'state_name': 'Tripura'}}, {'state': {'state_id': 'UK', 'state_name': 'Uttarakhand'}}, {'state': {'state_id': 'UP', 'state_name': 'Uttar Pradesh'}}, {'state': {'state_id': 'WB', 'state_name': 'West Bengal'}}]}\n"
     ]
    }
   ],
   "source": [
    "import requests\n",
    "\n",
    "repo_url=\"http://vocab.nic.in/rest.php/states/json\"\n",
    "\n",
    "response =requests.get(repo_url)\n",
    "\n",
    "print(response.json())\n",
    "\n",
    "req_data= response.json()\n"
   ]
  },
  {
   "cell_type": "code",
   "execution_count": 0,
   "metadata": {
    "application/vnd.databricks.v1+cell": {
     "cellMetadata": {
      "byteLimit": 2048000,
      "rowLimit": 10000
     },
     "inputWidgets": {},
     "nuid": "512153d3-68b3-444c-b6f8-681142ecd9ee",
     "showTitle": false,
     "tableResultSettingsMap": {},
     "title": ""
    }
   },
   "outputs": [
    {
     "output_type": "stream",
     "name": "stdout",
     "output_type": "stream",
     "text": [
      "+--------------------+\n|              states|\n+--------------------+\n|[{state -> {state...|\n+--------------------+\n\n"
     ]
    }
   ],
   "source": [
    "df = spark.createDataFrame([req_data])\n",
    "df.show()"
   ]
  },
  {
   "cell_type": "code",
   "execution_count": 0,
   "metadata": {
    "application/vnd.databricks.v1+cell": {
     "cellMetadata": {
      "byteLimit": 2048000,
      "rowLimit": 10000
     },
     "inputWidgets": {},
     "nuid": "bb57c4d0-1ccd-490e-a1d6-a55a2643f7b4",
     "showTitle": false,
     "tableResultSettingsMap": {},
     "title": ""
    }
   },
   "outputs": [],
   "source": [
    "from pyspark.sql.types import StructType, StructField, StringType, ArrayType\n",
    "\n",
    "# Define schema for the nested \"state\" field\n",
    "state_schema = StructType([\n",
    "    StructField(\"state_id\", StringType(), True),\n",
    "    StructField(\"state_name\", StringType(), True)\n",
    "])\n",
    "\n",
    "# Define schema for the \"states\" list\n",
    "json_schema = StructType([\n",
    "    StructField(\"states\", ArrayType(StructType([\n",
    "        StructField(\"state\", state_schema)  # Nested structure\n",
    "    ])), True)\n",
    "])\n"
   ]
  },
  {
   "cell_type": "code",
   "execution_count": 0,
   "metadata": {
    "application/vnd.databricks.v1+cell": {
     "cellMetadata": {
      "byteLimit": 2048000,
      "rowLimit": 10000
     },
     "inputWidgets": {},
     "nuid": "23b460c0-b9c0-46b4-bd6c-907df7d915a6",
     "showTitle": false,
     "tableResultSettingsMap": {},
     "title": ""
    }
   },
   "outputs": [
    {
     "output_type": "stream",
     "name": "stdout",
     "output_type": "stream",
     "text": [
      "root\n |-- states: array (nullable = true)\n |    |-- element: struct (containsNull = true)\n |    |    |-- state: struct (nullable = true)\n |    |    |    |-- state_id: string (nullable = true)\n |    |    |    |-- state_name: string (nullable = true)\n\n+--------------------+\n|              states|\n+--------------------+\n|[{{AN, Andaman an...|\n+--------------------+\n\n"
     ]
    }
   ],
   "source": [
    "states= spark.createDataFrame([req_data],schema=json_schema)\n",
    "states.printSchema()\n",
    "\n",
    "states.show()"
   ]
  },
  {
   "cell_type": "code",
   "execution_count": 0,
   "metadata": {
    "application/vnd.databricks.v1+cell": {
     "cellMetadata": {
      "byteLimit": 2048000,
      "rowLimit": 10000
     },
     "inputWidgets": {},
     "nuid": "15ebe8be-334a-43f4-ab8c-aa0dacf6b9e5",
     "showTitle": false,
     "tableResultSettingsMap": {},
     "title": ""
    }
   },
   "outputs": [
    {
     "output_type": "stream",
     "name": "stdout",
     "output_type": "stream",
     "text": [
      "+--------------------+\n|               state|\n+--------------------+\n|{{AN, Andaman and...|\n|{{AP, Andhra Prad...|\n|{{AR, Arunachal P...|\n|       {{AS, Assam}}|\n|       {{BR, Bihar}}|\n|{{CH, Chandigarh ...|\n|{{CG, Chhattisgarh}}|\n|{{DN, Dadra and N...|\n|{{DD, Daman and D...|\n| {{DL, Delhi (NCT)}}|\n|         {{GA, Goa}}|\n|     {{GJ, Gujarat}}|\n|     {{HR, Haryana}}|\n|{{HP, Himachal Pr...|\n|{{JK, Jammu and K...|\n|   {{JH, Jharkhand}}|\n|   {{KA, Karnataka}}|\n|      {{KL, Kerala}}|\n|  {{LK, Ladakh(UT)}}|\n|{{LD, Lakshadweep...|\n+--------------------+\nonly showing top 20 rows\n\n+--------+--------------------+\n|state_id|          state_name|\n+--------+--------------------+\n|      AN|Andaman and Nicob...|\n|      AP|      Andhra Pradesh|\n|      AR|   Arunachal Pradesh|\n|      AS|               Assam|\n|      BR|               Bihar|\n|      CH|     Chandigarh (UT)|\n|      CG|        Chhattisgarh|\n|      DN|Dadra and Nagar H...|\n|      DD|  Daman and Diu (UT)|\n|      DL|         Delhi (NCT)|\n|      GA|                 Goa|\n|      GJ|             Gujarat|\n|      HR|             Haryana|\n|      HP|    Himachal Pradesh|\n|      JK|Jammu and Kashmir...|\n|      JH|           Jharkhand|\n|      KA|           Karnataka|\n|      KL|              Kerala|\n|      LK|          Ladakh(UT)|\n|      LD|    Lakshadweep (UT)|\n+--------+--------------------+\nonly showing top 20 rows\n\n"
     ]
    }
   ],
   "source": [
    "from pyspark.sql.functions import explode, col\n",
    "\n",
    "# Explode the nested array properly\n",
    "states_flattened = states.select(explode(col(\"states\")).alias(\"state\"))\n",
    "#states_flattened = states_flattened.select(explode(col(\"state\")).alias(\"state\"))\n",
    "states_flattened.show()\n",
    "\n",
    "# Extract individual fields from the nested structure\n",
    "df_cleaned = states_flattened.select(\n",
    "    col(\"state.state.state_id\").alias(\"state_id\"),\n",
    "    col(\"state.state.state_name\").alias(\"state_name\")\n",
    ")\n",
    "\n",
    "df_cleaned.show()\n",
    "\n"
   ]
  }
 ],
 "metadata": {
  "application/vnd.databricks.v1+notebook": {
   "computePreferences": null,
   "dashboards": [],
   "environmentMetadata": {
    "base_environment": "",
    "environment_version": "1"
   },
   "inputWidgetPreferences": null,
   "language": "python",
   "notebookMetadata": {
    "pythonIndentUnit": 2
   },
   "notebookName": "Json dataset",
   "widgets": {}
  }
 },
 "nbformat": 4,
 "nbformat_minor": 0
}